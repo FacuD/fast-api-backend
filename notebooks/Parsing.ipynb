{
 "cells": [
  {
   "cell_type": "code",
   "execution_count": 3,
   "id": "87ab8eed",
   "metadata": {},
   "outputs": [],
   "source": [
    "query_dict = {\n",
    "  \"select\": \"channel, country, sum(impressions) as impressions, sum(clicks) as clicks\",\n",
    "  \"where\": \"date < '2017-06-01'\",\n",
    "  \"group_by\": \"channel, country\",\n",
    "  \"order_by\": \"clicks desc\",\n",
    "  \"sort_by\": None\n",
    "}"
   ]
  },
  {
   "cell_type": "code",
   "execution_count": 4,
   "id": "fc7f4c53",
   "metadata": {},
   "outputs": [],
   "source": [
    "def rename_keys(initial_df, renamed_keys):\n",
    "  return dict([(renamed_keys.get(k), v) for k, v in initial_df.items()])\n",
    "\n",
    "parse_keys = rename_keys(query_dict, {'select' : 'select', 'where' : 'where',\n",
    "                                       'group_by' : 'group by', 'order_by' : 'order by',\n",
    "                                       'sort_by': 'sort by'})"
   ]
  },
  {
   "cell_type": "code",
   "execution_count": 5,
   "id": "2754fc07",
   "metadata": {},
   "outputs": [
    {
     "data": {
      "text/plain": [
       "\"select channel, country, sum(impressions) as impressions, sum(clicks) as clicks from analytics where date < '2017-06-01' group by channel, country order by clicks desc ;\""
      ]
     },
     "execution_count": 5,
     "metadata": {},
     "output_type": "execute_result"
    }
   ],
   "source": [
    "clean_query = {key: value for key, value in parse_keys.items() if value is not None}\n",
    "\n",
    "sql_statement = \"\"\n",
    "for key, value in clean_query.items():\n",
    "    sql_statement += key + \" \" + value\n",
    "    sql_statement += \" \"\n",
    "    if key == \"select\":\n",
    "        sql_statement += \"from analytics \"\n",
    "    \n",
    "sql_statement += \";\"\n",
    "sql_statement"
   ]
  },
  {
   "cell_type": "code",
   "execution_count": null,
   "id": "9e2d70bd",
   "metadata": {},
   "outputs": [],
   "source": []
  }
 ],
 "metadata": {
  "kernelspec": {
   "display_name": "Python 3.10.6 64-bit",
   "language": "python",
   "name": "python3"
  },
  "language_info": {
   "codemirror_mode": {
    "name": "ipython",
    "version": 3
   },
   "file_extension": ".py",
   "mimetype": "text/x-python",
   "name": "python",
   "nbconvert_exporter": "python",
   "pygments_lexer": "ipython3",
   "version": "3.10.6"
  },
  "vscode": {
   "interpreter": {
    "hash": "916dbcbb3f70747c44a77c7bcd40155683ae19c65e1c03b4aa3499c5328201f1"
   }
  }
 },
 "nbformat": 4,
 "nbformat_minor": 5
}
